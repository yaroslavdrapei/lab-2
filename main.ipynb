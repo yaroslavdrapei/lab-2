{
 "cells": [
  {
   "cell_type": "markdown",
   "metadata": {},
   "source": [
    "# Lab 2"
   ]
  },
  {
   "cell_type": "markdown",
   "metadata": {},
   "source": [
    "### Part 1"
   ]
  },
  {
   "cell_type": "code",
   "execution_count": 5,
   "metadata": {},
   "outputs": [
    {
     "name": "stdout",
     "output_type": "stream",
     "text": [
      "1: [0. 0. 0.] == [ 0.  0. -0.]\n",
      "2: [ 0.         -1.78885438  0.89442719] == [ 0.         -1.78885438  0.89442719]\n",
      "3: [-0.57735027  0.57735027 -0.57735027] == [-0.57735027  0.57735027 -0.57735027]\n",
      "[[ 0.          0.          0.57735027]\n",
      " [ 0.70710678 -0.89442719 -0.57735027]\n",
      " [-0.70710678  0.4472136   0.57735027]]\n"
     ]
    }
   ],
   "source": [
    "from EigenClass import EigenClass\n",
    "import numpy as np\n",
    "\n",
    "matrix = np.array([\n",
    "  [-1, 0, 0],\n",
    "  [1, 4, 4],\n",
    "  [-1, -2, -2]\n",
    "])\n",
    "\n",
    "print(EigenClass.get_eigen(matrix)[1])\n"
   ]
  }
 ],
 "metadata": {
  "kernelspec": {
   "display_name": "Python 3",
   "language": "python",
   "name": "python3"
  },
  "language_info": {
   "codemirror_mode": {
    "name": "ipython",
    "version": 3
   },
   "file_extension": ".py",
   "mimetype": "text/x-python",
   "name": "python",
   "nbconvert_exporter": "python",
   "pygments_lexer": "ipython3",
   "version": "3.12.1"
  }
 },
 "nbformat": 4,
 "nbformat_minor": 2
}
